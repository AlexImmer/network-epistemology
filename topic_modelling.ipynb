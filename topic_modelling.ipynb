{
 "cells": [
  {
   "cell_type": "code",
   "execution_count": 2,
   "metadata": {
    "collapsed": true
   },
   "outputs": [],
   "source": [
    "import json \n",
    "from sklearn.feature_extraction.text import CountVectorizer\n",
    "from sklearn.decomposition import LatentDirichletAllocation"
   ]
  },
  {
   "cell_type": "code",
   "execution_count": 3,
   "metadata": {},
   "outputs": [],
   "source": [
    "dblp_file = 'publication_data/dblp-ref-0.json'"
   ]
  },
  {
   "cell_type": "code",
   "execution_count": 8,
   "metadata": {},
   "outputs": [],
   "source": [
    "def load_file(dblp_file):\n",
    "    ids, texts = [], []\n",
    "    with open(dblp_file) as f:\n",
    "        for line in f:\n",
    "            line = json.loads(line)\n",
    "            text = line.get('title', '') + '. ' + line.get('abstract', '')\n",
    "            text = text.replace('- ', '')\n",
    "            ids.append(line['id'])\n",
    "            texts.append(text)\n",
    "    return ids, texts"
   ]
  },
  {
   "cell_type": "code",
   "execution_count": null,
   "metadata": {},
   "outputs": [],
   "source": [
    "def load_corpus(files):\n",
    "    ids_corpus, text_corpus = [], []\n",
    "    for file in files:\n",
    "        ids, corpus = load_file(file)\n",
    "        ids_corpus.extend(ids)\n",
    "        text_corpus.extend(corpus)\n",
    "    return ids_corpus, text_corpus"
   ]
  },
  {
   "cell_type": "code",
   "execution_count": 9,
   "metadata": {},
   "outputs": [],
   "source": [
    "ids, corpus = load_file(dblp_file)"
   ]
  },
  {
   "cell_type": "code",
   "execution_count": null,
   "metadata": {},
   "outputs": [],
   "source": []
  }
 ],
 "metadata": {
  "kernelspec": {
   "display_name": "Python 2",
   "language": "python",
   "name": "python2"
  },
  "language_info": {
   "codemirror_mode": {
    "name": "ipython",
    "version": 2
   },
   "file_extension": ".py",
   "mimetype": "text/x-python",
   "name": "python",
   "nbconvert_exporter": "python",
   "pygments_lexer": "ipython2",
   "version": "2.7.6"
  }
 },
 "nbformat": 4,
 "nbformat_minor": 0
}
