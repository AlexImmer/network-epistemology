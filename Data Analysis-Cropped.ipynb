{
 "cells": [
  {
   "cell_type": "code",
   "execution_count": 1,
   "metadata": {},
   "outputs": [],
   "source": [
    "%matplotlib inline"
   ]
  },
  {
   "cell_type": "code",
   "execution_count": 2,
   "metadata": {},
   "outputs": [],
   "source": [
    "import pandas as pd\n",
    "import numpy as np\n",
    "from loading import *\n",
    "import matplotlib.pyplot as plt"
   ]
  },
  {
   "cell_type": "code",
   "execution_count": 3,
   "metadata": {},
   "outputs": [
    {
     "name": "stdout",
     "output_type": "stream",
     "text": [
      "['seaborn-dark', 'seaborn-darkgrid', 'seaborn-ticks', 'fivethirtyeight', 'seaborn-whitegrid', 'classic', '_classic_test', 'fast', 'seaborn-talk', 'seaborn-dark-palette', 'seaborn-bright', 'seaborn-pastel', 'grayscale', 'seaborn-notebook', 'ggplot', 'seaborn-colorblind', 'seaborn-muted', 'seaborn', 'Solarize_Light2', 'seaborn-paper', 'bmh', 'tableau-colorblind10', 'seaborn-white', 'dark_background', 'seaborn-poster', 'seaborn-deep']\n"
     ]
    }
   ],
   "source": [
    "print(plt.style.available)"
   ]
  },
  {
   "cell_type": "code",
   "execution_count": 4,
   "metadata": {},
   "outputs": [],
   "source": [
    "plt.style.use('seaborn-paper')"
   ]
  },
  {
   "cell_type": "markdown",
   "metadata": {},
   "source": [
    "## Loading Data\n",
    "\n",
    "- tradition distances integer values between 0 and n\n",
    "- transformation distances integer values between 1 and n\n",
    "- jump tradition and transformation distances for thos publications without links in either of them\n",
    "\n",
    "For example, if a publication has Nan in both tradition and jump_tradition, it is completely disconnected.\n",
    "Nans basically mean that there is no path to the current year (the publication according to our model *cannot* be alive)."
   ]
  },
  {
   "cell_type": "code",
   "execution_count": 5,
   "metadata": {},
   "outputs": [],
   "source": [
    "year = 1990\n",
    "trans_dists = load_transformation_distances(year)\n",
    "trad_dists = load_tradition_distances(year)\n",
    "jump_trad_dists = load_jump_tradition_distances(year)\n",
    "jump_trans_dists = load_jump_transformation_distances(year)"
   ]
  },
  {
   "cell_type": "markdown",
   "metadata": {},
   "source": [
    "See that the corresponding claim holds, only the concept distances contain all the publications:"
   ]
  },
  {
   "cell_type": "code",
   "execution_count": 6,
   "metadata": {},
   "outputs": [
    {
     "data": {
      "text/plain": [
       "(44603, 75153, 56392, 25842)"
      ]
     },
     "execution_count": 6,
     "metadata": {},
     "output_type": "execute_result"
    }
   ],
   "source": [
    "len(trans_dists), len(trad_dists), len(jump_trans_dists), len(jump_trad_dists)"
   ]
  },
  {
   "cell_type": "code",
   "execution_count": 7,
   "metadata": {},
   "outputs": [
    {
     "data": {
      "text/plain": [
       "(100995, 100995)"
      ]
     },
     "execution_count": 7,
     "metadata": {},
     "output_type": "execute_result"
    }
   ],
   "source": [
    "len(trans_dists) + len(jump_trans_dists), len(trad_dists) + len(jump_trad_dists)"
   ]
  },
  {
   "cell_type": "markdown",
   "metadata": {},
   "source": [
    "We can see that in this case all the publications would be connected to 1990 by **both** tradition and transformation. The topic jump accomplishes this in the corresponding year."
   ]
  },
  {
   "cell_type": "markdown",
   "metadata": {},
   "source": [
    "For convenience, simply load the whole table for a given year:"
   ]
  },
  {
   "cell_type": "code",
   "execution_count": 8,
   "metadata": {},
   "outputs": [
    {
     "data": {
      "text/html": [
       "<div>\n",
       "<style scoped>\n",
       "    .dataframe tbody tr th:only-of-type {\n",
       "        vertical-align: middle;\n",
       "    }\n",
       "\n",
       "    .dataframe tbody tr th {\n",
       "        vertical-align: top;\n",
       "    }\n",
       "\n",
       "    .dataframe thead th {\n",
       "        text-align: right;\n",
       "    }\n",
       "</style>\n",
       "<table border=\"1\" class=\"dataframe\">\n",
       "  <thead>\n",
       "    <tr style=\"text-align: right;\">\n",
       "      <th></th>\n",
       "      <th>transformation_distance</th>\n",
       "      <th>tradition_distance</th>\n",
       "      <th>jump_tradition_distance</th>\n",
       "      <th>jump_transformation_distance</th>\n",
       "      <th>concept_distance</th>\n",
       "    </tr>\n",
       "    <tr>\n",
       "      <th>pub_id</th>\n",
       "      <th></th>\n",
       "      <th></th>\n",
       "      <th></th>\n",
       "      <th></th>\n",
       "      <th></th>\n",
       "    </tr>\n",
       "  </thead>\n",
       "  <tbody>\n",
       "    <tr>\n",
       "      <th>00ca027b-5174-40fa-bf63-9a97c2a5f518</th>\n",
       "      <td>NaN</td>\n",
       "      <td>0.0</td>\n",
       "      <td>NaN</td>\n",
       "      <td>0.0</td>\n",
       "      <td>0.931662</td>\n",
       "    </tr>\n",
       "    <tr>\n",
       "      <th>02804a61-a180-4f77-8edf-ff630ddd5ceb</th>\n",
       "      <td>2.0</td>\n",
       "      <td>0.0</td>\n",
       "      <td>NaN</td>\n",
       "      <td>NaN</td>\n",
       "      <td>0.139581</td>\n",
       "    </tr>\n",
       "    <tr>\n",
       "      <th>02a186be-84bc-4c44-9fd6-2b15d9123607</th>\n",
       "      <td>NaN</td>\n",
       "      <td>NaN</td>\n",
       "      <td>0.0</td>\n",
       "      <td>0.0</td>\n",
       "      <td>0.293252</td>\n",
       "    </tr>\n",
       "    <tr>\n",
       "      <th>02d48327-6f23-4906-b2fb-c1ff66bf6b74</th>\n",
       "      <td>2.0</td>\n",
       "      <td>NaN</td>\n",
       "      <td>0.0</td>\n",
       "      <td>NaN</td>\n",
       "      <td>0.370128</td>\n",
       "    </tr>\n",
       "    <tr>\n",
       "      <th>03cda805-9746-48bb-a04d-02c2dac201c7</th>\n",
       "      <td>3.0</td>\n",
       "      <td>1.0</td>\n",
       "      <td>NaN</td>\n",
       "      <td>NaN</td>\n",
       "      <td>0.505764</td>\n",
       "    </tr>\n",
       "  </tbody>\n",
       "</table>\n",
       "</div>"
      ],
      "text/plain": [
       "                                      transformation_distance  \\\n",
       "pub_id                                                          \n",
       "00ca027b-5174-40fa-bf63-9a97c2a5f518                      NaN   \n",
       "02804a61-a180-4f77-8edf-ff630ddd5ceb                      2.0   \n",
       "02a186be-84bc-4c44-9fd6-2b15d9123607                      NaN   \n",
       "02d48327-6f23-4906-b2fb-c1ff66bf6b74                      2.0   \n",
       "03cda805-9746-48bb-a04d-02c2dac201c7                      3.0   \n",
       "\n",
       "                                      tradition_distance  \\\n",
       "pub_id                                                     \n",
       "00ca027b-5174-40fa-bf63-9a97c2a5f518                 0.0   \n",
       "02804a61-a180-4f77-8edf-ff630ddd5ceb                 0.0   \n",
       "02a186be-84bc-4c44-9fd6-2b15d9123607                 NaN   \n",
       "02d48327-6f23-4906-b2fb-c1ff66bf6b74                 NaN   \n",
       "03cda805-9746-48bb-a04d-02c2dac201c7                 1.0   \n",
       "\n",
       "                                      jump_tradition_distance  \\\n",
       "pub_id                                                          \n",
       "00ca027b-5174-40fa-bf63-9a97c2a5f518                      NaN   \n",
       "02804a61-a180-4f77-8edf-ff630ddd5ceb                      NaN   \n",
       "02a186be-84bc-4c44-9fd6-2b15d9123607                      0.0   \n",
       "02d48327-6f23-4906-b2fb-c1ff66bf6b74                      0.0   \n",
       "03cda805-9746-48bb-a04d-02c2dac201c7                      NaN   \n",
       "\n",
       "                                      jump_transformation_distance  \\\n",
       "pub_id                                                               \n",
       "00ca027b-5174-40fa-bf63-9a97c2a5f518                           0.0   \n",
       "02804a61-a180-4f77-8edf-ff630ddd5ceb                           NaN   \n",
       "02a186be-84bc-4c44-9fd6-2b15d9123607                           0.0   \n",
       "02d48327-6f23-4906-b2fb-c1ff66bf6b74                           NaN   \n",
       "03cda805-9746-48bb-a04d-02c2dac201c7                           NaN   \n",
       "\n",
       "                                      concept_distance  \n",
       "pub_id                                                  \n",
       "00ca027b-5174-40fa-bf63-9a97c2a5f518          0.931662  \n",
       "02804a61-a180-4f77-8edf-ff630ddd5ceb          0.139581  \n",
       "02a186be-84bc-4c44-9fd6-2b15d9123607          0.293252  \n",
       "02d48327-6f23-4906-b2fb-c1ff66bf6b74          0.370128  \n",
       "03cda805-9746-48bb-a04d-02c2dac201c7          0.505764  "
      ]
     },
     "execution_count": 8,
     "metadata": {},
     "output_type": "execute_result"
    }
   ],
   "source": [
    "merged_dists = load_distances(year)\n",
    "merged_dists.head()"
   ]
  },
  {
   "cell_type": "markdown",
   "metadata": {},
   "source": [
    "It might further be interesting to remove the unconnected components before conducting the analysis. We have to see how it affects the analysis though. Apparently, using the topic jump allows us to fit nearly every paper."
   ]
  },
  {
   "cell_type": "code",
   "execution_count": 9,
   "metadata": {},
   "outputs": [],
   "source": [
    "pubs = load_disconnected_publications()\n",
    "filtered_merged_dists = merged_dists.loc[merged_dists.index.difference(pubs.index)]"
   ]
  },
  {
   "cell_type": "code",
   "execution_count": 10,
   "metadata": {},
   "outputs": [
    {
     "data": {
      "text/plain": [
       "(100995, 96487)"
      ]
     },
     "execution_count": 10,
     "metadata": {},
     "output_type": "execute_result"
    }
   ],
   "source": [
    "len(merged_dists), len(filtered_merged_dists)"
   ]
  },
  {
   "cell_type": "markdown",
   "metadata": {},
   "source": [
    "## Data Analysis"
   ]
  },
  {
   "cell_type": "markdown",
   "metadata": {},
   "source": [
    "### Distribution of papers / year"
   ]
  },
  {
   "cell_type": "code",
   "execution_count": 5,
   "metadata": {},
   "outputs": [],
   "source": [
    "ys = load_indices_years(filter_discon=True)"
   ]
  },
  {
   "cell_type": "code",
   "execution_count": 6,
   "metadata": {},
   "outputs": [
    {
     "data": {
      "image/png": "[encoded data removed]",
      "text/plain": [
       "<Figure size 460.8x316.8 with 1 Axes>"
      ]
     },
     "metadata": {},
     "output_type": "display_data"
    }
   ],
   "source": [
    "y = ys[ys.year >= 1995]\n",
    "plt.hist(y.year, bins=len(np.unique(y.year)))\n",
    "plt.show()"
   ]
  },
  {
   "cell_type": "code",
   "execution_count": 7,
   "metadata": {},
   "outputs": [
    {
     "data": {
      "image/png": "[encoded data removed]",
      "text/plain": [
       "<Figure size 460.8x316.8 with 1 Axes>"
      ]
     },
     "metadata": {},
     "output_type": "display_data"
    }
   ],
   "source": [
    "yes = list(range(1980, 2016))\n",
    "plt.plot(yes, [len(ys[ys.year==y]) for y in yes], label='Publications')\n",
    "plt.ylabel('Number of Publications')\n",
    "plt.xlabel('Year')\n",
    "plt.show()"
   ]
  },
  {
   "cell_type": "markdown",
   "metadata": {},
   "source": [
    "Exponential increase of the publications in the field of computer science. Might be in science generally or simply the crazy growth of CS."
   ]
  },
  {
   "cell_type": "markdown",
   "metadata": {},
   "source": [
    "### Concatenate all the distances to years 1970 until 2017"
   ]
  },
  {
   "cell_type": "code",
   "execution_count": null,
   "metadata": {},
   "outputs": [
    {
     "name": "stdout",
     "output_type": "stream",
     "text": [
      "1945\t1946\t1947\t1948\t1949\t1950\t1951\t1952\t1953\t1954\t1955\t1956\t1957\t1958\t1959\t1960\t1961\t1962\t1963\t1964\t1965\t1966\t1967\t1968\t1969\t1970\t1971\t1972\t1973\t1974\t1975\t1976\t1977\t1978\t1979\t1980\t1981\t1982\t1983\t1984\t1985\t1986\t1987\t1988\t1989\t1990\t1991\t1992\t1993\t1994\t1995\t1996\t1997\t1998\t1999\t2000\t2001\t2002\t2003\t2004\t2005\t2006\t2007\t2008\t2009\t2010\t2011\t2012\t2013\t"
     ]
    }
   ],
   "source": [
    "dfs = []\n",
    "for year in range(1945, 2017):\n",
    "    print(year, end='\\t')\n",
    "    df = load_graph_distances(year, filter_discon=True)\n",
    "    df['year'] = year\n",
    "    dfs.append(df)\n",
    "frame = pd.concat(dfs)"
   ]
  },
  {
   "cell_type": "code",
   "execution_count": null,
   "metadata": {},
   "outputs": [],
   "source": [
    "frame.to_csv('data/frame.csv')"
   ]
  },
  {
   "cell_type": "code",
   "execution_count": null,
   "metadata": {},
   "outputs": [],
   "source": [
    "frame = pd.read_csv('data/frame.csv', index_col=0)"
   ]
  },
  {
   "cell_type": "code",
   "execution_count": null,
   "metadata": {},
   "outputs": [],
   "source": [
    "pubs = load_disconnected_publications()\n",
    "frame = frame.loc[frame.index.difference(pubs.index)]"
   ]
  },
  {
   "cell_type": "markdown",
   "metadata": {},
   "source": [
    "### Sample a paper and look at its distances to the following years (if existent)\n",
    "In particular look at pubs before 2005 otherwise not very interesting due to horizon."
   ]
  },
  {
   "cell_type": "code",
   "execution_count": null,
   "metadata": {},
   "outputs": [],
   "source": [
    "pub_indices = ys[ys.year<2005].index"
   ]
  },
  {
   "cell_type": "code",
   "execution_count": null,
   "metadata": {
    "scrolled": true
   },
   "outputs": [],
   "source": [
    "sample = np.random.randint(len(pub_indices))\n",
    "pub = pub_indices[sample]\n",
    "# look at distances from the publication to the following years\n",
    "pub_dists = frame.loc[pub].sort_values('year')\n",
    "if not all(pub_dists.transformation_distance.isna()):\n",
    "    plt.bar(pub_dists.year, pub_dists.transformation_distance, label='trans', alpha=0.5)\n",
    "if not all(pub_dists.tradition_distance.isna()):\n",
    "    # + 1 becuase 0 is not visible of course..\n",
    "    plt.bar(pub_dists.year, pub_dists.tradition_distance+1, label='tradition', alpha=0.5)\n",
    "plt.legend()\n",
    "plt.show()"
   ]
  },
  {
   "cell_type": "markdown",
   "metadata": {},
   "source": [
    "### Average distances to next years of pubs in a given year\n",
    "Now look at all publications of a specific year and check their distances to the pubs of the following years in alignment with the below analysis we choose 1990."
   ]
  },
  {
   "cell_type": "code",
   "execution_count": null,
   "metadata": {},
   "outputs": [],
   "source": [
    "year = 1990\n",
    "ixs = ys[ys.year==year].index\n",
    "subf = frame.loc[ixs]\n",
    "grp = subf.groupby('year').mean()  # replace with median/max/min if desired\n",
    "plt.plot(grp.transformation_distance, label='trans')\n",
    "plt.plot(grp.tradition_distance, label='trad')\n",
    "plt.legend()\n",
    "plt.show()"
   ]
  },
  {
   "cell_type": "code",
   "execution_count": null,
   "metadata": {},
   "outputs": [],
   "source": [
    "std = subf.groupby('year').std()\n",
    "plt.errorbar(grp.transformation_distance.index, grp.transformation_distance, yerr=std.transformation_distance, label='trans')\n",
    "plt.errorbar(grp.tradition_distance.index, grp.tradition_distance, yerr=std.tradition_distance, label='trad')\n",
    "plt.legend()\n",
    "plt.show()"
   ]
  },
  {
   "cell_type": "markdown",
   "metadata": {},
   "source": [
    "The second one is not very informative though but just for reference..."
   ]
  },
  {
   "cell_type": "markdown",
   "metadata": {},
   "source": [
    "### Distribution of Aliveness over years"
   ]
  },
  {
   "cell_type": "markdown",
   "metadata": {},
   "source": [
    "In particular select the fraction of publications that we don't consider alive by the respective metrics."
   ]
  },
  {
   "cell_type": "code",
   "execution_count": null,
   "metadata": {},
   "outputs": [],
   "source": [
    "years = list(set(frame.year))"
   ]
  },
  {
   "cell_type": "code",
   "execution_count": null,
   "metadata": {},
   "outputs": [],
   "source": [
    "perc_dead_trad = []\n",
    "perc_dead_tran = []\n",
    "perc_dead = []\n",
    "for year in years:\n",
    "    # sum on booleans uses the 0 1 properties of bool\n",
    "    yframe = frame[frame.year == year] \n",
    "    perc_dead_trad.append(sum(yframe.tradition_distance.isna()) / len(yframe))\n",
    "    perc_dead_tran.append(sum(yframe.transformation_distance.isna()) / len(yframe))\n",
    "    perc_dead.append(sum(yframe.transformation_distance.isna() & yframe.tradition_distance.isna()) / len(yframe))"
   ]
  },
  {
   "cell_type": "code",
   "execution_count": null,
   "metadata": {},
   "outputs": [],
   "source": [
    "plt.plot(years, perc_dead_trad, label='Tradition')\n",
    "plt.plot(years, perc_dead_tran, label='Transformation')\n",
    "plt.plot(years, perc_dead, label='Both')\n",
    "plt.legend()\n",
    "plt.show()"
   ]
  },
  {
   "cell_type": "markdown",
   "metadata": {},
   "source": [
    "### Distribution of Aliveness for publications of a single year"
   ]
  },
  {
   "cell_type": "markdown",
   "metadata": {},
   "source": [
    "Does the saturation also happen for the individual publications of each year before these. Let us consider the publications of year 1990 and look at the following years and their aliveness:"
   ]
  },
  {
   "cell_type": "code",
   "execution_count": null,
   "metadata": {},
   "outputs": [],
   "source": [
    "year = 1990\n",
    "pubs = ys[ys.year==year].index"
   ]
  },
  {
   "cell_type": "code",
   "execution_count": null,
   "metadata": {},
   "outputs": [],
   "source": [
    "years = list(range(year+1, 2018))"
   ]
  },
  {
   "cell_type": "code",
   "execution_count": null,
   "metadata": {},
   "outputs": [],
   "source": [
    "perc_nas_trad = []\n",
    "perc_nas_tran = []\n",
    "for year in years:\n",
    "    yframe = frame[frame.year == year] \n",
    "    yframe = yframe.loc[pubs]\n",
    "    perc_nas_trad.append(sum(yframe.tradition_distance.isna()) / len(yframe))\n",
    "    perc_nas_tran.append(sum(yframe.transformation_distance.isna()) / len(yframe))"
   ]
  },
  {
   "cell_type": "code",
   "execution_count": null,
   "metadata": {},
   "outputs": [],
   "source": [
    "plt.plot(years, perc_nas_trad, label='Tradition')\n",
    "plt.plot(years, perc_nas_tran, label='Transformation')\n",
    "plt.legend()\n",
    "plt.show()"
   ]
  },
  {
   "cell_type": "markdown",
   "metadata": {},
   "source": [
    "### Probability of aliveness versus path-length in a given year"
   ]
  },
  {
   "cell_type": "code",
   "execution_count": null,
   "metadata": {},
   "outputs": [],
   "source": [
    "year = 1990\n",
    "pubs = ys[ys.year==year].index\n",
    "years = list(range(year+1, 2017))"
   ]
  },
  {
   "cell_type": "code",
   "execution_count": null,
   "metadata": {},
   "outputs": [],
   "source": [
    "perc_nas_trad = []\n",
    "perc_nas_tran = []\n",
    "for year in years:\n",
    "    yframe = frame[frame.year == year] \n",
    "    yframe = yframe.loc[pubs]\n",
    "    perc_nas_trad.append(sum(yframe.tradition_distance.isna()) / len(yframe))\n",
    "    perc_nas_tran.append(sum(yframe.transformation_distance.isna()) / len(yframe))"
   ]
  },
  {
   "cell_type": "code",
   "execution_count": null,
   "metadata": {},
   "outputs": [],
   "source": [
    "subf = frame.loc[pubs]\n",
    "subf = subf[subf.year < 2017]\n",
    "grp = subf.groupby('year').mean()  # replace with median/max/min if desired"
   ]
  },
  {
   "cell_type": "code",
   "execution_count": null,
   "metadata": {},
   "outputs": [],
   "source": [
    "plt.plot(grp.transformation_distance/np.array(perc_nas_tran), label='trans')\n",
    "plt.plot(grp.tradition_distance/np.array(perc_nas_trad), label='trad')\n",
    "plt.legend()\n",
    "plt.show()"
   ]
  },
  {
   "cell_type": "code",
   "execution_count": null,
   "metadata": {},
   "outputs": [],
   "source": [
    "plt.plot(grp.transformation_distance/np.log(np.array(perc_nas_tran)), label='trans')\n",
    "plt.plot(grp.tradition_distance/np.log(np.array(perc_nas_trad)), label='trad')\n",
    "plt.legend()\n",
    "plt.show()"
   ]
  },
  {
   "cell_type": "markdown",
   "metadata": {},
   "source": [
    "### Report Plots"
   ]
  },
  {
   "cell_type": "markdown",
   "metadata": {},
   "source": [
    "#### Aliveness"
   ]
  },
  {
   "cell_type": "code",
   "execution_count": null,
   "metadata": {},
   "outputs": [],
   "source": [
    "start, end, step = 1980, 2000, 2"
   ]
  },
  {
   "cell_type": "code",
   "execution_count": null,
   "metadata": {},
   "outputs": [],
   "source": [
    "perc_dead_trad = []\n",
    "perc_dead_tran = []\n",
    "perc_dead = []\n",
    "for year in range(1980, 2016):\n",
    "    # sum on booleans uses the 0 1 properties of bool\n",
    "    yframe = frame[frame.year == year] \n",
    "    perc_dead_trad.append(1- sum(yframe.tradition_distance.isna()) / len(yframe))\n",
    "    perc_dead_tran.append(1- sum(yframe.transformation_distance.isna()) / len(yframe))\n",
    "    perc_dead.append(1- sum(yframe.transformation_distance.isna() & yframe.tradition_distance.isna()) / len(yframe))"
   ]
  },
  {
   "cell_type": "code",
   "execution_count": null,
   "metadata": {},
   "outputs": [],
   "source": [
    "fig = plt.figure(1, figsize=(10, 10))\n",
    "c1, c2 = None, None\n",
    "for year in range(start, end, step):\n",
    "    pubs = ys[ys.year==year].index\n",
    "    years = list(range(year+1, 2017))\n",
    "    perc_nas_trad = []\n",
    "    perc_nas_tran = []\n",
    "    for y in years:\n",
    "        yframe = frame[frame.year == y] \n",
    "        yframe = yframe.loc[pubs]\n",
    "        perc_nas_trad.append(1 - sum(yframe.tradition_distance.isna()) / len(yframe))\n",
    "        perc_nas_tran.append(1 - sum(yframe.transformation_distance.isna()) / len(yframe))\n",
    "    if year == start:\n",
    "        line1, = plt.plot(years, perc_nas_trad, label='Tradition', linestyle=':', alpha=0.7)\n",
    "        line2, = plt.plot(years, perc_nas_tran, label='Transformation', linestyle=':', alpha=0.7)\n",
    "        c1, c2 = line1.get_color(), line2.get_color()\n",
    "    else:\n",
    "        plt.plot(years, perc_nas_trad, color=c1, linestyle=':', alpha=0.5)\n",
    "        plt.plot(years, perc_nas_tran, color=c2, linestyle=':', alpha=0.5)\n",
    "plt.plot(range(1980, 2016), perc_dead_trad, label='Global Tradition', alpha=0.9)\n",
    "plt.plot(range(1980, 2016), perc_dead_tran, label='Global Transformation', alpha=0.9)\n",
    "plt.plot(range(1980, 2016), perc_dead, label='Tradition and Transformation')\n",
    "plt.title('Probability of Aliveness by Tradition and Transformation')\n",
    "plt.xlabel('Year')\n",
    "plt.ylabel('Fraction of Connected Publications')\n",
    "plt.legend()\n",
    "plt.show()"
   ]
  },
  {
   "cell_type": "markdown",
   "metadata": {},
   "source": [
    "#### Distances"
   ]
  },
  {
   "cell_type": "code",
   "execution_count": null,
   "metadata": {},
   "outputs": [],
   "source": [
    "start, end, step = 1980, 2007, 2"
   ]
  },
  {
   "cell_type": "code",
   "execution_count": null,
   "metadata": {},
   "outputs": [],
   "source": [
    "fig = plt.figure(1, figsize=(10, 10))\n",
    "c1, c2 = None, None\n",
    "for year in range(start, end, step):\n",
    "    pubs = ys[ys.year==year].index\n",
    "    subf = frame.loc[pubs]\n",
    "    grp = subf.groupby('year').mean()\n",
    "    if year == start:\n",
    "        line1, = plt.plot(grp.index, list(grp.tradition_distance), \n",
    "                          label='Tradition', linestyle=':', alpha=0.7)\n",
    "        line2, = plt.plot(grp.index, list(grp.transformation_distance), \n",
    "                          label='Transformation', linestyle=':', alpha=0.7)\n",
    "        c1, c2 = line1.get_color(), line2.get_color()\n",
    "    else:\n",
    "        plt.plot(grp.index, list(grp.tradition_distance), color=c1, linestyle=':', alpha=0.7)\n",
    "        plt.plot(grp.index, list(grp.transformation_distance), color=c2, linestyle=':', alpha=0.7)\n",
    "plt.title('Shortest Path to Graph of Current Year')\n",
    "plt.xlabel('Year')\n",
    "plt.ylabel('Path Length')\n",
    "plt.legend()\n",
    "plt.show()"
   ]
  }
 ],
 "metadata": {
  "kernelspec": {
   "display_name": "Python 3",
   "language": "python",
   "name": "python3"
  },
  "language_info": {
   "codemirror_mode": {
    "name": "ipython",
    "version": 3
   },
   "file_extension": ".py",
   "mimetype": "text/x-python",
   "name": "python",
   "nbconvert_exporter": "python",
   "pygments_lexer": "ipython3",
   "version": "3.6.5"
  }
 },
 "nbformat": 4,
 "nbformat_minor": 1
}
