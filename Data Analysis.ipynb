{
 "cells": [
  {
   "cell_type": "code",
   "execution_count": 1,
   "metadata": {},
   "outputs": [],
   "source": [
    "import pandas as pd\n",
    "import numpy as np\n",
    "from loading import *"
   ]
  },
  {
   "cell_type": "markdown",
   "metadata": {},
   "source": [
    "## Loading Data\n",
    "\n",
    "- tradition distances integer values between 0 and n\n",
    "- transformation distances integer values between 1 and n\n",
    "- jump tradition and transformation distances for thos publications without links in either of them\n",
    "\n",
    "For example, if a publication has Nan in both tradition and jump_tradition, it is completely disconnected.\n",
    "Nans basically mean that there is no path to the current year (the publication according to our model *cannot* be alive)."
   ]
  },
  {
   "cell_type": "code",
   "execution_count": 2,
   "metadata": {},
   "outputs": [],
   "source": [
    "year = 1990\n",
    "trans_dists = load_transformation_distances(year)\n",
    "trad_dists = load_tradition_distances(year)\n",
    "jump_trad_dists = load_jump_tradition_distances(year)\n",
    "jump_trans_dists = load_jump_transformation_distances(year)"
   ]
  },
  {
   "cell_type": "markdown",
   "metadata": {},
   "source": [
    "See that the corresponding claim holds, only the concept distances contain all the publications:"
   ]
  },
  {
   "cell_type": "code",
   "execution_count": 3,
   "metadata": {},
   "outputs": [
    {
     "data": {
      "text/plain": [
       "(44603, 75153, 56392, 25842)"
      ]
     },
     "execution_count": 3,
     "metadata": {},
     "output_type": "execute_result"
    }
   ],
   "source": [
    "len(trans_dists), len(trad_dists), len(jump_trans_dists), len(jump_trad_dists)"
   ]
  },
  {
   "cell_type": "code",
   "execution_count": 4,
   "metadata": {},
   "outputs": [
    {
     "data": {
      "text/plain": [
       "(100995, 100995)"
      ]
     },
     "execution_count": 4,
     "metadata": {},
     "output_type": "execute_result"
    }
   ],
   "source": [
    "len(trans_dists) + len(jump_trans_dists), len(trad_dists) + len(jump_trad_dists)"
   ]
  },
  {
   "cell_type": "markdown",
   "metadata": {},
   "source": [
    "We can see that in this case all the publications would be connected to 1990 by **both** tradition and transformation. The topic jump accomplishes this in the corresponding year."
   ]
  },
  {
   "cell_type": "markdown",
   "metadata": {},
   "source": [
    "For convenience, simply load the whole table for a given year:"
   ]
  },
  {
   "cell_type": "code",
   "execution_count": 5,
   "metadata": {},
   "outputs": [
    {
     "data": {
      "text/html": [
       "<div>\n",
       "<style scoped>\n",
       "    .dataframe tbody tr th:only-of-type {\n",
       "        vertical-align: middle;\n",
       "    }\n",
       "\n",
       "    .dataframe tbody tr th {\n",
       "        vertical-align: top;\n",
       "    }\n",
       "\n",
       "    .dataframe thead th {\n",
       "        text-align: right;\n",
       "    }\n",
       "</style>\n",
       "<table border=\"1\" class=\"dataframe\">\n",
       "  <thead>\n",
       "    <tr style=\"text-align: right;\">\n",
       "      <th></th>\n",
       "      <th>transformation_distance</th>\n",
       "      <th>tradition_distance</th>\n",
       "      <th>jump_tradition_distance</th>\n",
       "      <th>jump_transformation_distance</th>\n",
       "    </tr>\n",
       "    <tr>\n",
       "      <th>pub_id</th>\n",
       "      <th></th>\n",
       "      <th></th>\n",
       "      <th></th>\n",
       "      <th></th>\n",
       "    </tr>\n",
       "  </thead>\n",
       "  <tbody>\n",
       "    <tr>\n",
       "      <th>00ca027b-5174-40fa-bf63-9a97c2a5f518</th>\n",
       "      <td>NaN</td>\n",
       "      <td>0.0</td>\n",
       "      <td>NaN</td>\n",
       "      <td>0.0</td>\n",
       "    </tr>\n",
       "    <tr>\n",
       "      <th>02804a61-a180-4f77-8edf-ff630ddd5ceb</th>\n",
       "      <td>2.0</td>\n",
       "      <td>0.0</td>\n",
       "      <td>NaN</td>\n",
       "      <td>NaN</td>\n",
       "    </tr>\n",
       "    <tr>\n",
       "      <th>02a186be-84bc-4c44-9fd6-2b15d9123607</th>\n",
       "      <td>NaN</td>\n",
       "      <td>NaN</td>\n",
       "      <td>0.0</td>\n",
       "      <td>0.0</td>\n",
       "    </tr>\n",
       "    <tr>\n",
       "      <th>02d48327-6f23-4906-b2fb-c1ff66bf6b74</th>\n",
       "      <td>2.0</td>\n",
       "      <td>NaN</td>\n",
       "      <td>0.0</td>\n",
       "      <td>NaN</td>\n",
       "    </tr>\n",
       "    <tr>\n",
       "      <th>03cda805-9746-48bb-a04d-02c2dac201c7</th>\n",
       "      <td>3.0</td>\n",
       "      <td>1.0</td>\n",
       "      <td>NaN</td>\n",
       "      <td>NaN</td>\n",
       "    </tr>\n",
       "  </tbody>\n",
       "</table>\n",
       "</div>"
      ],
      "text/plain": [
       "                                      transformation_distance  \\\n",
       "pub_id                                                          \n",
       "00ca027b-5174-40fa-bf63-9a97c2a5f518                      NaN   \n",
       "02804a61-a180-4f77-8edf-ff630ddd5ceb                      2.0   \n",
       "02a186be-84bc-4c44-9fd6-2b15d9123607                      NaN   \n",
       "02d48327-6f23-4906-b2fb-c1ff66bf6b74                      2.0   \n",
       "03cda805-9746-48bb-a04d-02c2dac201c7                      3.0   \n",
       "\n",
       "                                      tradition_distance  \\\n",
       "pub_id                                                     \n",
       "00ca027b-5174-40fa-bf63-9a97c2a5f518                 0.0   \n",
       "02804a61-a180-4f77-8edf-ff630ddd5ceb                 0.0   \n",
       "02a186be-84bc-4c44-9fd6-2b15d9123607                 NaN   \n",
       "02d48327-6f23-4906-b2fb-c1ff66bf6b74                 NaN   \n",
       "03cda805-9746-48bb-a04d-02c2dac201c7                 1.0   \n",
       "\n",
       "                                      jump_tradition_distance  \\\n",
       "pub_id                                                          \n",
       "00ca027b-5174-40fa-bf63-9a97c2a5f518                      NaN   \n",
       "02804a61-a180-4f77-8edf-ff630ddd5ceb                      NaN   \n",
       "02a186be-84bc-4c44-9fd6-2b15d9123607                      0.0   \n",
       "02d48327-6f23-4906-b2fb-c1ff66bf6b74                      0.0   \n",
       "03cda805-9746-48bb-a04d-02c2dac201c7                      NaN   \n",
       "\n",
       "                                      jump_transformation_distance  \n",
       "pub_id                                                              \n",
       "00ca027b-5174-40fa-bf63-9a97c2a5f518                           0.0  \n",
       "02804a61-a180-4f77-8edf-ff630ddd5ceb                           NaN  \n",
       "02a186be-84bc-4c44-9fd6-2b15d9123607                           0.0  \n",
       "02d48327-6f23-4906-b2fb-c1ff66bf6b74                           NaN  \n",
       "03cda805-9746-48bb-a04d-02c2dac201c7                           NaN  "
      ]
     },
     "execution_count": 5,
     "metadata": {},
     "output_type": "execute_result"
    }
   ],
   "source": [
    "merged_dists = load_distances(year)\n",
    "merged_dists.head()"
   ]
  },
  {
   "cell_type": "markdown",
   "metadata": {},
   "source": [
    "It might further be interesting to remove the unconnected components before conducting the analysis. We have to see how it affects the analysis though. Apparently, using the topic jump allows us to fit nearly every paper."
   ]
  },
  {
   "cell_type": "code",
   "execution_count": 6,
   "metadata": {},
   "outputs": [],
   "source": [
    "pubs = load_disconnected_publications()\n",
    "filtered_merged_dists = merged_dists.loc[merged_dists.index.difference(pubs.index)]"
   ]
  },
  {
   "cell_type": "code",
   "execution_count": 7,
   "metadata": {},
   "outputs": [
    {
     "data": {
      "text/plain": [
       "(100995, 96487)"
      ]
     },
     "execution_count": 7,
     "metadata": {},
     "output_type": "execute_result"
    }
   ],
   "source": [
    "len(merged_dists), len(filtered_merged_dists)"
   ]
  },
  {
   "cell_type": "markdown",
   "metadata": {},
   "source": [
    "## Data Analysis"
   ]
  },
  {
   "cell_type": "code",
   "execution_count": null,
   "metadata": {},
   "outputs": [],
   "source": []
  }
 ],
 "metadata": {
  "kernelspec": {
   "display_name": "Python 3",
   "language": "python",
   "name": "python3"
  },
  "language_info": {
   "codemirror_mode": {
    "name": "ipython",
    "version": 3
   },
   "file_extension": ".py",
   "mimetype": "text/x-python",
   "name": "python",
   "nbconvert_exporter": "python",
   "pygments_lexer": "ipython3",
   "version": "3.6.4"
  }
 },
 "nbformat": 4,
 "nbformat_minor": 1
}
