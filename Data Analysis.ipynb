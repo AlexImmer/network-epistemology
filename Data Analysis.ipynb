{
 "cells": [
  {
   "cell_type": "code",
   "execution_count": 1,
   "metadata": {},
   "outputs": [],
   "source": [
    "import pandas as pd\n",
    "import numpy as np\n",
    "from loading import *"
   ]
  },
  {
   "cell_type": "markdown",
   "metadata": {},
   "source": [
    "## Loading Data\n",
    "\n",
    "- concept distances in the interval [0, 2] due to l1 distance (for all publications)\n",
    "- tradition distances integer values between 0 and n\n",
    "- transformation distances integer values between 1 and n\n",
    "\n",
    "When merging the 3 distance metrics we obtain a matrix indexed by the publications and the columns as distances. Since the graph distances tradition and transformation might be infinity, i.e. we cannot find a corresponding path, there are no rows for some publications. In the process of merging the three distances, we fill those values with nans and hence cast the integer values to floats that allow nan."
   ]
  },
  {
   "cell_type": "code",
   "execution_count": 2,
   "metadata": {},
   "outputs": [],
   "source": [
    "year = 1990\n",
    "concept_dists = load_concept_distances(year)\n",
    "trans_dists = load_transformation_distances(year)\n",
    "trad_dists = load_tradition_distances(year)"
   ]
  },
  {
   "cell_type": "markdown",
   "metadata": {},
   "source": [
    "See that the corresponding claim holds, only the concept distances contain all the publications:"
   ]
  },
  {
   "cell_type": "code",
   "execution_count": 3,
   "metadata": {},
   "outputs": [
    {
     "data": {
      "text/plain": [
       "(100995, 73412, 75153)"
      ]
     },
     "execution_count": 3,
     "metadata": {},
     "output_type": "execute_result"
    }
   ],
   "source": [
    "len(concept_dists), len(trans_dists), len(trad_dists)"
   ]
  },
  {
   "cell_type": "markdown",
   "metadata": {},
   "source": [
    "Now, we can merge those together and see the imputation strategies."
   ]
  },
  {
   "cell_type": "code",
   "execution_count": 4,
   "metadata": {},
   "outputs": [
    {
     "data": {
      "text/html": [
       "<div>\n",
       "<style scoped>\n",
       "    .dataframe tbody tr th:only-of-type {\n",
       "        vertical-align: middle;\n",
       "    }\n",
       "\n",
       "    .dataframe tbody tr th {\n",
       "        vertical-align: top;\n",
       "    }\n",
       "\n",
       "    .dataframe thead th {\n",
       "        text-align: right;\n",
       "    }\n",
       "</style>\n",
       "<table border=\"1\" class=\"dataframe\">\n",
       "  <thead>\n",
       "    <tr style=\"text-align: right;\">\n",
       "      <th></th>\n",
       "      <th>concept_distance</th>\n",
       "      <th>transformation_distance</th>\n",
       "      <th>tradition_distance</th>\n",
       "    </tr>\n",
       "    <tr>\n",
       "      <th>pub_id</th>\n",
       "      <th></th>\n",
       "      <th></th>\n",
       "      <th></th>\n",
       "    </tr>\n",
       "  </thead>\n",
       "  <tbody>\n",
       "    <tr>\n",
       "      <th>00ca027b-5174-40fa-bf63-9a97c2a5f518</th>\n",
       "      <td>0.931662</td>\n",
       "      <td>NaN</td>\n",
       "      <td>0.0</td>\n",
       "    </tr>\n",
       "    <tr>\n",
       "      <th>02804a61-a180-4f77-8edf-ff630ddd5ceb</th>\n",
       "      <td>0.139581</td>\n",
       "      <td>2.0</td>\n",
       "      <td>0.0</td>\n",
       "    </tr>\n",
       "    <tr>\n",
       "      <th>02a186be-84bc-4c44-9fd6-2b15d9123607</th>\n",
       "      <td>0.293252</td>\n",
       "      <td>NaN</td>\n",
       "      <td>NaN</td>\n",
       "    </tr>\n",
       "    <tr>\n",
       "      <th>02d48327-6f23-4906-b2fb-c1ff66bf6b74</th>\n",
       "      <td>0.370128</td>\n",
       "      <td>2.0</td>\n",
       "      <td>NaN</td>\n",
       "    </tr>\n",
       "    <tr>\n",
       "      <th>03cda805-9746-48bb-a04d-02c2dac201c7</th>\n",
       "      <td>0.505764</td>\n",
       "      <td>2.0</td>\n",
       "      <td>1.0</td>\n",
       "    </tr>\n",
       "  </tbody>\n",
       "</table>\n",
       "</div>"
      ],
      "text/plain": [
       "                                      concept_distance  \\\n",
       "pub_id                                                   \n",
       "00ca027b-5174-40fa-bf63-9a97c2a5f518          0.931662   \n",
       "02804a61-a180-4f77-8edf-ff630ddd5ceb          0.139581   \n",
       "02a186be-84bc-4c44-9fd6-2b15d9123607          0.293252   \n",
       "02d48327-6f23-4906-b2fb-c1ff66bf6b74          0.370128   \n",
       "03cda805-9746-48bb-a04d-02c2dac201c7          0.505764   \n",
       "\n",
       "                                      transformation_distance  \\\n",
       "pub_id                                                          \n",
       "00ca027b-5174-40fa-bf63-9a97c2a5f518                      NaN   \n",
       "02804a61-a180-4f77-8edf-ff630ddd5ceb                      2.0   \n",
       "02a186be-84bc-4c44-9fd6-2b15d9123607                      NaN   \n",
       "02d48327-6f23-4906-b2fb-c1ff66bf6b74                      2.0   \n",
       "03cda805-9746-48bb-a04d-02c2dac201c7                      2.0   \n",
       "\n",
       "                                      tradition_distance  \n",
       "pub_id                                                    \n",
       "00ca027b-5174-40fa-bf63-9a97c2a5f518                 0.0  \n",
       "02804a61-a180-4f77-8edf-ff630ddd5ceb                 0.0  \n",
       "02a186be-84bc-4c44-9fd6-2b15d9123607                 NaN  \n",
       "02d48327-6f23-4906-b2fb-c1ff66bf6b74                 NaN  \n",
       "03cda805-9746-48bb-a04d-02c2dac201c7                 1.0  "
      ]
     },
     "execution_count": 4,
     "metadata": {},
     "output_type": "execute_result"
    }
   ],
   "source": [
    "merged_dists = load_distances(year)\n",
    "merged_dists.head()"
   ]
  },
  {
   "cell_type": "markdown",
   "metadata": {},
   "source": [
    "It might further be interesting to remove the unconnected components before conducting the analysis:"
   ]
  },
  {
   "cell_type": "code",
   "execution_count": 5,
   "metadata": {},
   "outputs": [],
   "source": [
    "pubs = load_disconnected_publications()"
   ]
  },
  {
   "cell_type": "code",
   "execution_count": 6,
   "metadata": {},
   "outputs": [
    {
     "data": {
      "text/plain": [
       "100995"
      ]
     },
     "execution_count": 6,
     "metadata": {},
     "output_type": "execute_result"
    }
   ],
   "source": [
    "len(merged_dists)"
   ]
  },
  {
   "cell_type": "code",
   "execution_count": 7,
   "metadata": {},
   "outputs": [
    {
     "data": {
      "text/plain": [
       "96487"
      ]
     },
     "execution_count": 7,
     "metadata": {},
     "output_type": "execute_result"
    }
   ],
   "source": [
    "len(merged_dists.loc[merged_dists.index.difference(pubs.index)])"
   ]
  },
  {
   "cell_type": "markdown",
   "metadata": {},
   "source": [
    "## Data Analysis"
   ]
  },
  {
   "cell_type": "code",
   "execution_count": null,
   "metadata": {},
   "outputs": [],
   "source": []
  }
 ],
 "metadata": {
  "kernelspec": {
   "display_name": "Python 3",
   "language": "python",
   "name": "python3"
  },
  "language_info": {
   "codemirror_mode": {
    "name": "ipython",
    "version": 3
   },
   "file_extension": ".py",
   "mimetype": "text/x-python",
   "name": "python",
   "nbconvert_exporter": "python",
   "pygments_lexer": "ipython3",
   "version": "3.6.5"
  }
 },
 "nbformat": 4,
 "nbformat_minor": 1
}
